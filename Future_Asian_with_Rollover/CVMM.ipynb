{
 "cells": [
  {
   "cell_type": "code",
   "execution_count": 1,
   "metadata": {
    "pycharm": {
     "is_executing": false
    }
   },
   "outputs": [],
   "source": [
    "import numpy as np\n",
    "import pandas as pd\n",
    "from datetime import datetime,date,timedelta\n",
    "import matplotlib.pyplot as plt\n",
    "from scipy.stats import norm\n",
    "from scipy.optimize import minimize\n",
    "from scipy.stats.mstats import gmean \n",
    "import pandas_market_calendars as mcal\n",
    "import QuantLib as ql"
   ]
  },
  {
   "cell_type": "markdown",
   "metadata": {},
   "source": [
    "# Control Variate Monte Carlo on energy futures, taking care of rollover"
   ]
  },
  {
   "cell_type": "markdown",
   "metadata": {
    "pycharm": {
     "is_executing": false,
     "name": "#%% md\n"
    }
   },
   "source": [
    "## Inputs:\n",
    "Initial values of both futures: F10,F20 <br>\n",
    "Volatility of both futures: sigma_1,sigma_2 <br>\n",
    "Correlation between two futures: rho<br>\n",
    "Risk free rate: r<br>\n",
    "Rollover day in market days(in years): T1 e.g. one week would be 5/258 <br>\n",
    "Maturity day: T2 <br>\n",
    "First day of averaging: first_date <br>\n",
    "Step size of the averaging: step = 1/258 by default <br>\n",
    "Strike: K <br>\n",
    "Type of option: Type "
   ]
  },
  {
   "cell_type": "markdown",
   "metadata": {
    "pycharm": {
     "name": "#%% md\n"
    }
   },
   "source": [
    "### Closed-form Geometric Asian <br>\n",
    "g = $log(G)$ ~ $N(\\mu,\\sigma^2)$"
   ]
  },
  {
   "cell_type": "markdown",
   "metadata": {},
   "source": [
    "### BS Wrapper <br>\n",
    "$S_0$ = $E(G_T)$ = $e^{\\mu+\\sigma^2/2}$  <br>\n",
    "$K$ = $K$ <br>\n",
    "$T$ = $T_2$ <br>\n",
    "$r$ = $r$ <br>\n",
    "$y$ = $r$ <br>\n",
    "$\\sigma$ = $\\sqrt{\\sigma^2/T}$ "
   ]
  },
  {
   "cell_type": "markdown",
   "metadata": {},
   "source": [
    "### Control Variate Monte Carlo\n",
    "\n",
    "$A^* = E(A) + \\beta (E(G) - G)$ <br>\n",
    "$\\beta = \\frac{cov(A,G)}{var(G)}$ <br>\n",
    "$SE_A* = \\sqrt{\\frac{var(A) - 2\\beta cov(A,G) + \\beta^2 var(G)}{n}}$ <br>"
   ]
  },
  {
   "cell_type": "code",
   "execution_count": 15,
   "metadata": {
    "pycharm": {
     "is_executing": false
    }
   },
   "outputs": [],
   "source": [
    "class Asian(object):\n",
    "    step = 1/258\n",
    "    def __init__(self,F10,F20,K,sigma_1,sigma_2,rho,r,today,first,rollover,mature,Type):\n",
    "        self.F10 = F10\n",
    "        self.F20 = F20\n",
    "        self.K = K\n",
    "        self.sigma_1 = sigma_1\n",
    "        self.sigma_2= sigma_2\n",
    "        self.rho = rho\n",
    "        self.r = r\n",
    "        self.first_date,self.T1,self.T2 = self.f_T(today,first,rollover,mature)        \n",
    "        self.Type = Type\n",
    "\n",
    "    def f_T(self,today,first,rollover,mature):\n",
    "        '''\n",
    "        Deal with market dates\n",
    "        \n",
    "        parameters:\n",
    "        first_date: first date when pricing period starts\n",
    "        T1: rollover date when the closing price of the next future is used instead of the first due to liquidity  \n",
    "        T2: last day of pricing period +1, to make codes easier to read\n",
    "\n",
    "        return:\n",
    "        first_date,T1,T2 from today as fractions of a year\n",
    "        '''\n",
    "\n",
    "        ice = mcal.get_calendar('ICE')\n",
    "        schedule_first = ice.schedule(today,first)\n",
    "        l_first = len(schedule_first)\n",
    "        schedule_rollover = ice.schedule(today,rollover)\n",
    "        l_rollover = len(schedule_rollover)\n",
    "        schedule_mature = ice.schedule(today,mature)\n",
    "        l_mature = len(schedule_mature)\n",
    "\n",
    "        if date.strftime(schedule_rollover.index[0],'%Y-%m-%d') == today:\n",
    "            return (l_first-1)/258,(l_rollover-1)/258, (l_mature)/258 \n",
    "                    # (l_mature)/258 is actually [the relative date of maturity +1] to accomodate to the pricing code\n",
    "        else:\n",
    "            return (l_first)/258,(l_rollover)/258, (l_mature+1)/258\n",
    "                    # (l_mature+1)/258 is actually [the relative date of maturity +1] to accomodate to the pricing code\n",
    "\n",
    "\n",
    "    @property\n",
    "    def n(self):\n",
    "        '''\n",
    "        number of prices to take average on\n",
    "        '''\n",
    "        return int((self.T2 - self.first_date)/self.step)\n",
    "    \n",
    "    @property\n",
    "    def mu(self):\n",
    "        '''\n",
    "        effective Mu in Geometric pricing\n",
    "        '''\n",
    "        return 1/self.n * ( ((self.T1 - self.first_date)*258)*np.log(self.F10)\n",
    "                      -0.5*self.sigma_1**2 *np.sum(np.arange(int(self.first_date*258),int(self.T1*258)))/258\n",
    "                      +(self.T2 - self.T1)*258*np.log(self.F20)\n",
    "                      -0.5*self.sigma_2**2 *np.sum(np.arange(int(self.T1*258),int(self.T2*258)))/258 )\n",
    "\n",
    "    @property\n",
    "    def sigma(self):\n",
    "        '''\n",
    "        effective Sigma in Geometric pricing\n",
    "        '''\n",
    "        vol={0:sigma_1,1:sigma_2}\n",
    "        return 1/self.n *( sum(\n",
    "                      vol[i>(self.T1 - 1/258)]*vol[j>(self.T1 - 1/258)]*min(i,j)*self.rho**(int(min(i,j)<self.T1 and max(i,j) > (self.T1- 1/258)))\n",
    "                      for i in np.arange(int(self.first_date*258),int(self.T2*258))/258 \n",
    "                      for j in np.arange(int(self.first_date*258),int(self.T2*258))/258) )**0.5\n",
    "\n",
    "    \n",
    "    def log(func):\n",
    "        '''\n",
    "        wrapper functions to put effective parameters into BS model\n",
    "        '''\n",
    "        def wrapper(self):\n",
    "            S0 =  np.exp(self.mu+self.sigma**2/2)\n",
    "            y = self.r \n",
    "            sigma = (self.sigma**2/self.T2)**0.5\n",
    "            return func(S0,self.K,self.T2-1/258,self.r,y,sigma,self.Type)\n",
    "        return wrapper\n",
    "\n",
    "    \n",
    "    @log\n",
    "    def BS(S0,K,T,r,y,sigma,Type):\n",
    "        '''\n",
    "        vanilla BS model\n",
    "        '''\n",
    "\n",
    "        d1 = (np.log(S0/K)+(r-y+0.5*sigma**2)*T)/(sigma*T**0.5)\n",
    "        d2 = d1 - sigma*T**0.5\n",
    "        if Type.upper() == 'CALL':\n",
    "            \n",
    "            return np.exp(-y*T)*S0*norm.cdf(d1) - np.exp(-r*T)*K*norm.cdf(d2)\n",
    "        else:\n",
    "            return -np.exp(-y*T)*S0*norm.cdf(-d1) + np.exp(-r*T)*K*norm.cdf(-d2)\n",
    "    \n",
    "    @property  \n",
    "    def GeoMeanClosedForm(self):\n",
    "        '''\n",
    "        closed formed solution of geometric asian\n",
    "        '''\n",
    "        return self.BS()\n",
    "    \n",
    "    def f_payoff(self,ST):\n",
    "        '''\n",
    "        payoff function of call/put\n",
    "        '''\n",
    "        if self.Type.upper() == 'CALL':\n",
    "            return max(ST-self.K,0)\n",
    "        else:\n",
    "            return max(self.K-ST,0)\n",
    "    \n",
    "    \n",
    "    def ArithMeanCVMM(self,n_path):\n",
    "        '''\n",
    "        CVMM of arithmetic asian using geometric asian as control variate\n",
    "        '''\n",
    "        n_dots = int(self.T2 * 258.0) - 1\n",
    "        if rho == 1:\n",
    "            L = np.array([[1.00, 0.0],\n",
    "               [1.00, 0.0]])\n",
    "        elif rho == -1:\n",
    "            L = np.array([[1.00, 0.0],\n",
    "               [-1.00, 0.0]])\n",
    "        elif rho == 0:\n",
    "            L = np.array([[1.00, 0.0],\n",
    "               [0.00, 1.00]])\n",
    "        else:\n",
    "            cor_matrix = np.array([[1.0,self.rho],\n",
    "                                   [self.rho,1.0]])\n",
    "            L = np.linalg.cholesky(cor_matrix)\n",
    "\n",
    "        #generate correlated paths\n",
    "        paths = L.dot(np.random.normal(0,1,(2,int(n_path*n_dots))))\n",
    "\n",
    "        # scale by std\n",
    "        paths = np.array([[self.step**0.5 * self.sigma_1,0],[0,self.step**0.5 * self.sigma_2]]) @ paths\n",
    "\n",
    "        #add drift\n",
    "        paths = (paths.T+[-0.5* self.sigma_1**2 * self.step, -0.5* self.sigma_2**2 * self.step]).T\n",
    "\n",
    "        #cumsum each d(logF)\n",
    "        for i in np.arange(0,int(n_path*n_dots), n_dots):\n",
    "            paths[:,i:(i+n_dots)] = np.cumsum(paths[:,i:(i+n_dots)], axis = 1)\n",
    "\n",
    "        #add initial price\n",
    "        paths = (paths.T+[np.log(self.F10),np.log(self.F20)]).T\n",
    "\n",
    "        #take to exponential\n",
    "        paths = np.exp(paths)\n",
    "\n",
    "        #calculate realized a-mean and g-mean for each path\n",
    "        averaging_pos = list(zip(\n",
    "                                 np.append(np.array([0]*int((self.T1-self.first_date)/self.step)),\n",
    "                                           np.array([1]*int((self.T2-self.T1)/self.step))),\n",
    "                                 np.append(np.arange(int(self.first_date/self.step)-1,int(self.T1/self.step)-1),\n",
    "                                           np.arange(int(self.T1/self.step)-1,int(self.T2/self.step)-1))))\n",
    "\n",
    "\n",
    "        a_sum = 0.0\n",
    "        g_sum = 0.0\n",
    "        a_2_sum = 0.0\n",
    "        g_2_sum = 0.0\n",
    "        ag_sum = 0\n",
    "        \n",
    "        diff = []\n",
    "\n",
    "        for i in np.arange(0,int(n_path*n_dots), n_dots):\n",
    "\n",
    "            temp = paths[:,i:(i+n_dots)]\n",
    "            prices = [temp[int(pos[0]),int(pos[1])] for pos in averaging_pos]\n",
    "\n",
    "            #a, a2\n",
    "            a_mean = np.mean(prices)\n",
    "            a_payoff = self.f_payoff(a_mean)\n",
    "            a_value = np.exp(-self.r*self.T2) * a_payoff\n",
    "            a_sum += a_value\n",
    "            a_2_sum += a_value**2\n",
    "\n",
    "            #g, g2\n",
    "            g_mean = gmean(prices)\n",
    "            g_payoff = self.f_payoff(g_mean)\n",
    "            g_value = np.exp(-self.r*self.T2) * g_payoff\n",
    "            g_sum += g_value\n",
    "            g_2_sum += g_value**2\n",
    "\n",
    "            #a*g\n",
    "            ag_sum += a_value * g_value\n",
    "            \n",
    "\n",
    "\n",
    "        E_a = a_sum/n_path\n",
    "        E_a_2 = a_2_sum/n_path\n",
    "        E_g = g_sum/n_path\n",
    "        E_g_2 = g_2_sum/n_path\n",
    "        E_ag = ag_sum/n_path\n",
    "\n",
    "        var_a = E_a_2 - E_a**2\n",
    "        var_g = E_g_2 - E_g**2\n",
    "        cov_ag = E_ag - E_a * E_g\n",
    "\n",
    "        Beta = cov_ag / var_g\n",
    "        E_a = E_a + Beta * (self.GeoMeanClosedForm - E_g)\n",
    "        se_a = ((1/n_path) * (var_a - 2* Beta * cov_ag + Beta**2 * var_g))**0.5\n",
    "        se_a_Beta1 = ((1/n_path) * (var_a - 2 * cov_ag +  var_g))**0.5\n",
    "        se_a_BB = (var_a/n_path) ** 0.5\n",
    "        return {'E_a':E_a,'Beta':Beta,'se_a':se_a,'se_a_Beta1':se_a_Beta1,'se_a_BB':se_a_BB}\n",
    "        "
   ]
  },
  {
   "cell_type": "code",
   "execution_count": 16,
   "metadata": {},
   "outputs": [],
   "source": [
    "F10 = 493.0\n",
    "F20 = 492.750\n",
    "sigma_1 = 0.015813514*258**0.5\n",
    "sigma_2 = 0.015402859*258**0.5\n",
    "rho = 0.99\n",
    "r = -0.00628919\n",
    "today = '2020-02-04'\n",
    "first = '2020-04-01'\n",
    "rollover = '2020-04-08'\n",
    "mature = '2020-04-30'\n",
    "K = 500\n",
    "Type = 'call'"
   ]
  },
  {
   "cell_type": "code",
   "execution_count": 17,
   "metadata": {
    "pycharm": {
     "is_executing": false
    }
   },
   "outputs": [],
   "source": [
    "a=Asian(F10,F20,K,sigma_1,sigma_2,rho,r,today,first,rollover,mature,Type)"
   ]
  },
  {
   "cell_type": "code",
   "execution_count": 18,
   "metadata": {},
   "outputs": [
    {
     "data": {
      "text/plain": [
       "{'E_a': 17.573129789257468,\n",
       " 'Beta': 1.0041384234603037,\n",
       " 'se_a': 0.005729019969855859,\n",
       " 'se_a_Beta1': 0.0069060797979048775,\n",
       " 'se_a_BB': 0.9357404528614592}"
      ]
     },
     "execution_count": 18,
     "metadata": {},
     "output_type": "execute_result"
    }
   ],
   "source": [
    "a.ArithMeanCVMM(1000)"
   ]
  },
  {
   "cell_type": "code",
   "execution_count": null,
   "metadata": {},
   "outputs": [],
   "source": []
  }
 ],
 "metadata": {
  "kernelspec": {
   "display_name": "Python 3",
   "language": "python",
   "name": "python3"
  },
  "language_info": {
   "codemirror_mode": {
    "name": "ipython",
    "version": 3
   },
   "file_extension": ".py",
   "mimetype": "text/x-python",
   "name": "python",
   "nbconvert_exporter": "python",
   "pygments_lexer": "ipython3",
   "version": "3.7.6"
  },
  "pycharm": {
   "stem_cell": {
    "cell_type": "raw",
    "metadata": {
     "collapsed": false
    },
    "source": []
   }
  }
 },
 "nbformat": 4,
 "nbformat_minor": 1
}

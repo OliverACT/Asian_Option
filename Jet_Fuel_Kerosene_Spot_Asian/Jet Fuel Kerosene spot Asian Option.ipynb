{
 "cells": [
  {
   "cell_type": "code",
   "execution_count": 2,
   "metadata": {},
   "outputs": [],
   "source": [
    "import numpy as np\n",
    "import pandas as pd\n",
    "from datetime import datetime,date,timedelta\n",
    "import matplotlib.pyplot as plt\n",
    "from scipy.stats import norm\n",
    "from scipy.optimize import minimize\n",
    "from scipy.stats.mstats import gmean \n",
    "import pandas_market_calendars as mcal\n",
    "import QuantLib as ql\n",
    "from scipy.optimize import fsolve\n",
    "import calendar"
   ]
  },
  {
   "cell_type": "markdown",
   "metadata": {},
   "source": [
    "# Input: S, r, sigma, (Asian) Forward curve, months associated with the curve"
   ]
  },
  {
   "cell_type": "code",
   "execution_count": 3,
   "metadata": {},
   "outputs": [],
   "source": [
    "# Spot price in $/T\n",
    "S = 512\n",
    "\n",
    "# risk-free rate\n",
    "r = 0.00\n",
    "\n",
    "# implied volatility\n",
    "sigma = 0.13\n",
    "\n",
    "# Forward_curve\n",
    "Forward_curve = np.array([65.60,65.90,66.12,66.38,66.82,67.13,67.33,67.40])/0.128\n",
    "Months = [3,4,5,6,7,8,9,10]"
   ]
  },
  {
   "cell_type": "markdown",
   "metadata": {},
   "source": [
    "# Fit the d, the effective  (storage-convenience) yield, by the forward curve, assuming that d is a piecewise constant function of term\n",
    "$F_{0,T_1} = S e^{(r-d_1)T_1}$ <br>\n",
    "$F_{0,T_2} = S e^{(r-d_1)T_1+(r-d_2)(T_2-T_1)}$ <br>\n",
    "$F_{0,T_3} = S e^{(r-d_1)T_1+(r-d_2)(T_2-T_1)+(r-d_3)(T_3-T_2)}$ <br><br>\n",
    "\n",
    "$Future_1$ = $\\frac{\\sum_{i}F_{0,i}}{n}$ for i in [T_0,T_1] <br>\n",
    "$Future_2$ = $\\frac{\\sum_{i}F_{0,i}}{n}$ for i in [T_1,T_2] <br>"
   ]
  },
  {
   "cell_type": "markdown",
   "metadata": {},
   "source": [
    "## deal with trading dates"
   ]
  },
  {
   "cell_type": "code",
   "execution_count": 4,
   "metadata": {},
   "outputs": [],
   "source": [
    "ice = mcal.get_calendar('ICE')\n",
    "today = datetime.today().strftime(\"%Y-%m-%d\")\n",
    "\n",
    "\n",
    "T01_list = []\n",
    "#Jump_point_daycount = []\n",
    "Jump_point_calendar_date = []\n",
    "for i in [3,4,5,6,7,8,9]:\n",
    "    calender_first_date = '2020-0'+str(i)+'-01'\n",
    "    if i in [1,3,5,7,8,10,12]:\n",
    "        calender_last_date = '2020-0'+str(i)+'-31'\n",
    "    elif i == 2:\n",
    "        calender_last_date = '2020-0'+str(i)+'-29'\n",
    "    else:\n",
    "        calender_last_date = '2020-0'+str(i)+'-30'\n",
    "\n",
    "    averaging_dates = ice.schedule(calender_first_date,calender_last_date)\n",
    "    trading_first_date = averaging_dates.index[0].strftime(\"%Y-%m-%d\")\n",
    "    trading_last_date =  averaging_dates.index[-1].strftime(\"%Y-%m-%d\")\n",
    "    if today == ice.schedule(today,trading_first_date).index[0].strftime(\"%Y-%m-%d\"):\n",
    "        T0 = len(ice.schedule(today,trading_first_date))-1\n",
    "        T1 = len(ice.schedule(today,trading_last_date))-1\n",
    "    else:\n",
    "        T0 = len(ice.schedule(today,trading_first_date))\n",
    "        T1 = len(ice.schedule(today,trading_last_date))\n",
    "    T01_list.append([T0,T1])\n",
    "    Jump_point_calendar_date.append(trading_last_date)\n",
    "    \n",
    "for i in [10]:\n",
    "    calender_first_date = '2020-'+str(i)+'-01'\n",
    "    if i in [1,3,5,7,8,10,12]:\n",
    "        calender_last_date = '2020-'+str(i)+'-31'\n",
    "    elif i == 2:\n",
    "        calender_last_date = '2020-'+str(i)+'-29'\n",
    "    else:\n",
    "        calender_last_date = '2020-'+str(i)+'-30'\n",
    "\n",
    "    averaging_dates = ice.schedule(calender_first_date,calender_last_date)\n",
    "    trading_first_date = averaging_dates.index[0].strftime(\"%Y-%m-%d\")\n",
    "    trading_last_date =  averaging_dates.index[-1].strftime(\"%Y-%m-%d\")\n",
    "    T0 = len(ice.schedule(today,trading_first_date))-1\n",
    "    T1 = len(ice.schedule(today,trading_last_date))-1\n",
    "    T01_list.append([T0,T1])\n",
    "    Jump_point_calendar_date.append(trading_last_date)\n"
   ]
  },
  {
   "cell_type": "code",
   "execution_count": 5,
   "metadata": {},
   "outputs": [
    {
     "data": {
      "text/plain": [
       "[[5, 26],\n",
       " [27, 47],\n",
       " [48, 68],\n",
       " [69, 90],\n",
       " [91, 113],\n",
       " [114, 134],\n",
       " [135, 156],\n",
       " [157, 178]]"
      ]
     },
     "execution_count": 5,
     "metadata": {},
     "output_type": "execute_result"
    }
   ],
   "source": [
    "T01_list # starting and ending dates in number of days from today (0 stands for today)"
   ]
  },
  {
   "cell_type": "code",
   "execution_count": 6,
   "metadata": {},
   "outputs": [
    {
     "data": {
      "text/plain": [
       "['2020-03-31',\n",
       " '2020-04-30',\n",
       " '2020-05-29',\n",
       " '2020-06-30',\n",
       " '2020-07-31',\n",
       " '2020-08-31',\n",
       " '2020-09-30',\n",
       " '2020-10-30']"
      ]
     },
     "execution_count": 6,
     "metadata": {},
     "output_type": "execute_result"
    }
   ],
   "source": [
    "Jump_point_calendar_date # dates when d jumps"
   ]
  },
  {
   "cell_type": "markdown",
   "metadata": {},
   "source": [
    "##### Solve d by bootstraps"
   ]
  },
  {
   "cell_type": "code",
   "execution_count": 7,
   "metadata": {},
   "outputs": [],
   "source": [
    "factor = 1\n",
    "T_temp = 0\n",
    "d_list =[]\n",
    "factor_list = []\n",
    "for i in range(len(T01_list)):\n",
    "    T0,T1 =  T01_list[i]\n",
    "    def F(d):\n",
    "        return np.sum([S*np.exp((r - d)*i/258) for i in range(T0-T_temp,T1+1-T_temp)])/(T1-T0+1) - Forward_curve[i]/factor\n",
    "    d = fsolve(F,0)[0]\n",
    "    d_list.append(d)\n",
    "    factor *= np.exp((r - d)*(T1-T_temp)/258)\n",
    "    factor_list.append(factor)\n",
    "    T_temp = T1"
   ]
  },
  {
   "cell_type": "code",
   "execution_count": 8,
   "metadata": {},
   "outputs": [
    {
     "data": {
      "text/plain": [
       "[-0.016245780248153378,\n",
       " -0.0914576247756574,\n",
       " 0.004919370784387824,\n",
       " -0.09226617205911024,\n",
       " -0.06133826039518713,\n",
       " -0.047238223365295644,\n",
       " -0.025673042401012366,\n",
       " 0.00012380613034111896]"
      ]
     },
     "execution_count": 8,
     "metadata": {},
     "output_type": "execute_result"
    }
   ],
   "source": [
    "d_list # piecewise constants of d, used alongside the list of months"
   ]
  },
  {
   "cell_type": "markdown",
   "metadata": {},
   "source": [
    "## BBMC\n",
    "inputs: K, n_path (# of paths)"
   ]
  },
  {
   "cell_type": "code",
   "execution_count": 15,
   "metadata": {},
   "outputs": [],
   "source": [
    "K=600\n",
    "n_path =1000000"
   ]
  },
  {
   "cell_type": "code",
   "execution_count": 13,
   "metadata": {},
   "outputs": [],
   "source": [
    "def last_day_before_averaging(M):\n",
    "    day = calendar.monthrange(2020,M-1)[1]\n",
    "    if M<11:\n",
    "        return '2020-0'+str(M-1)+'-'+str(day)\n",
    "    else:\n",
    "        return '2020-'+str(M-1)+'-'+str(day)"
   ]
  },
  {
   "cell_type": "code",
   "execution_count": 14,
   "metadata": {},
   "outputs": [],
   "source": [
    "drift_list = []\n",
    "for i in range(8):\n",
    "\n",
    "    dividend = d_list[i]\n",
    "    T0,T1 = T01_list[i]    \n",
    "    drift_list+=[(r-dividend-0.5*sigma**2)/258]*(T1-T0+1)\n",
    "\n",
    "n_dot = len(drift_list)+1 # number of N(0,1) to generated, including the last day before averaging\n",
    "\n"
   ]
  },
  {
   "cell_type": "code",
   "execution_count": 32,
   "metadata": {},
   "outputs": [],
   "source": [
    "#generatiung paths\n",
    "paths = np.random.normal(0,1,(n_path,n_dot))\n",
    "\n",
    "#transform by volatility\n",
    "vol = np.diag([sigma*((T01_list[0][0]-1)/258)**0.5]+[sigma*(1/258)**0.5]*(n_dot-1))\n",
    "paths = paths @ vol\n",
    "\n",
    "#transform by drift\n",
    "\n",
    "drift = np.array([np.log(S)+(r-d_list[0]-0.5*sigma**2)* (T01_list[0][0]-1)/258]+drift_list)\n",
    "paths += drift\n",
    "\n",
    "#cumsum to get lg(S)\n",
    "paths = np.cumsum(paths,axis = 1)\n",
    "\n",
    "#transform lg(S) to S\n",
    "paths = np.exp(paths)\n",
    "\n",
    "#drop the first price which is for 29-02-2020\n",
    "paths = np.delete(paths,[0],axis=1)\n",
    "\n",
    "#payoff for each month average \n",
    "Payoff = np.zeros([n_path,len(Months)])\n",
    "for i in range(len([3,4,5,6,7,8,9,10])):\n",
    "#     T_start = T01_list[i][0]-T01_list[0][0]\n",
    "#     T_end = T01_list[i][1]-T01_list[0][0]\n",
    "#     Payoff[M] = np.average(paths[:,T_start:(T_end+1)])\n",
    "    T_start = T01_list[i][0]-T01_list[0][0]\n",
    "    T_end = T01_list[i][1]-T01_list[0][0]\n",
    "    Payoff[:,i] = np.average(paths[:,T_start:(T_end+1)],axis=1)\n",
    "    Payoff[:,i] = list(map(lambda x: max(x,0),Payoff[:,i]-K))\n",
    "\n",
    "#price for each option\n",
    "Payoff = np.average(Payoff,axis =0)*[np.exp(-r*(t+5)/258) for  t in np.array(T01_list)[:,1]]\n"
   ]
  },
  {
   "cell_type": "code",
   "execution_count": 33,
   "metadata": {},
   "outputs": [
    {
     "data": {
      "text/plain": [
       "array([0.        , 0.00387972, 0.06561855, 0.27354833, 0.74994119,\n",
       "       1.40870152, 2.13059791, 2.866917  ])"
      ]
     },
     "execution_count": 33,
     "metadata": {},
     "output_type": "execute_result"
    }
   ],
   "source": [
    "Payoff"
   ]
  },
  {
   "cell_type": "code",
   "execution_count": 34,
   "metadata": {},
   "outputs": [],
   "source": [
    "Q3 = np.sum(Payoff[[Months.index(i) for i in [7,8,9]]]) # portfolio of options"
   ]
  },
  {
   "cell_type": "code",
   "execution_count": 35,
   "metadata": {},
   "outputs": [
    {
     "data": {
      "text/plain": [
       "4.289240618110905"
      ]
     },
     "execution_count": 35,
     "metadata": {},
     "output_type": "execute_result"
    }
   ],
   "source": [
    "Q3"
   ]
  },
  {
   "cell_type": "code",
   "execution_count": null,
   "metadata": {},
   "outputs": [],
   "source": []
  },
  {
   "cell_type": "code",
   "execution_count": null,
   "metadata": {},
   "outputs": [],
   "source": []
  },
  {
   "cell_type": "code",
   "execution_count": null,
   "metadata": {},
   "outputs": [],
   "source": []
  },
  {
   "cell_type": "code",
   "execution_count": null,
   "metadata": {},
   "outputs": [],
   "source": []
  },
  {
   "cell_type": "code",
   "execution_count": null,
   "metadata": {},
   "outputs": [],
   "source": []
  }
 ],
 "metadata": {
  "kernelspec": {
   "display_name": "Python 3",
   "language": "python",
   "name": "python3"
  },
  "language_info": {
   "codemirror_mode": {
    "name": "ipython",
    "version": 3
   },
   "file_extension": ".py",
   "mimetype": "text/x-python",
   "name": "python",
   "nbconvert_exporter": "python",
   "pygments_lexer": "ipython3",
   "version": "3.7.6"
  }
 },
 "nbformat": 4,
 "nbformat_minor": 2
}
